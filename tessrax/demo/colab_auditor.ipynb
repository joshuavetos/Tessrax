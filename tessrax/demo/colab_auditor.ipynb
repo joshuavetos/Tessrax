# Tessrax Conversation Auditor – Colab Edition
!pip install anthropic

import anthropic, json

TMP1_PROMPT = """[YOUR TMP-1 CONTRADICTION SWEEP PROMPT]"""

def audit_conversation(conversation_text):
    """Run TMP-1 audit on conversation text"""
    client = anthropic.Client(api_key="YOUR_ANTHROPIC_KEY")
    response = client.messages.create(
        model="claude-sonnet-4-20250514",
        max_tokens=4000,
        messages=[{
            "role": "user",
            "content": TMP1_PROMPT + "\n\n" + conversation_text
        }]
    )
    return response.content[0].text

# === Demo ===
sample_conversation = """Paste any conversation here"""
result = audit_conversation(sample_conversation)
print(result)

try:
    audit_data = json.loads(result)
    print(f"\n📊 Stability Score: {audit_data['stability_score']}")
    print(f"🔍 Contradictions Found: {len(audit_data['contradictions_found'])}")
    print(f"⚖️ Recommended Route: {audit_data['recommended_route'].upper()}")
except:
    print("Raw output:", result)