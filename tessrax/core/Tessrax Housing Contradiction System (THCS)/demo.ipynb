# Tessrax Housing Prototype Demo 🏠
# Interactive notebook showing contradiction detection → logging → metabolism → visualization → governance

# --- 1. Setup --------------------------------------------------------------
from housing_contradiction_detector import detect_contradictions
from housing_primitives import (
    durability_yield,
    insurance_inversion,
    transaction_cost_visibility,
    material_provenance_value,
)
from housing_governance_kernel import propose_primitive, vote_on_primitive, summarize_governance
from ledger import ledger
import json
import matplotlib.pyplot as plt

print("Tessrax Housing Prototype — Live Demonstration\n")

# --- 2. Detect -------------------------------------------------------------
print("Detecting contradictions...")
contradictions = detect_contradictions()
print(json.dumps(contradictions, indent=2))

# --- 3. Log ---------------------------------------------------------------
print("\nLogging detected contradictions...")
ledger.extend(contradictions)
print(f"Ledger entries: {len(ledger)}")

# --- 4. Metabolize --------------------------------------------------------
print("\nMetabolizing tensions through governance primitives...")

sample = contradictions[0]
dur_yield = durability_yield(32, 60, 0.15)
inv = insurance_inversion(0.05, 0.02)
churn = transaction_cost_visibility(400000, 3.8)
prov = material_provenance_value(60, 0.75)

print(f"Durability Yield ROI: {dur_yield}%")
print(f"Insurance Inversion premium reduction: {inv*100:.1f}%")
print(f"Hidden churn cost: ${churn}")
print(f"Material provenance market value: {prov}")

# --- 5. Visualize ---------------------------------------------------------
print("\nGenerating contradiction graph...")
vel = [c["velocity"] for c in contradictions]
dur = [c["durability_index"] for c in contradictions]
score = [c["contradiction_score"] for c in contradictions]
labels = [c["location"] for c in contradictions]

plt.scatter(vel, dur, c=score, cmap="coolwarm", s=180, alpha=0.8)
for i, label in enumerate(labels):
    plt.text(vel[i] + 0.05, dur[i], label, fontsize=8)
plt.xlabel("Transaction Velocity (refinances per decade)")
plt.ylabel("Durability Index (0–1)")
plt.title("Tessrax Housing Contradiction Graph")
plt.colorbar(label="Contradiction Score (0–1)")
plt.show()

# --- 6. Govern ------------------------------------------------------------
print("\nSimulating governance cycle...")
propose_primitive("Durability Yield Calculator", "builder-alpha",
                  "Reward long-lived structures through performance-based ROI.")
votes = {"a1": "yes", "a2": "yes", "a3": "no", "a4": "yes",
         "a5": "yes", "a6": "no", "a7": "yes"}
vote_on_primitive(votes)
summarize_governance()

print("\nDemo complete — Tessrax has metabolized a real-world contradiction.")